{
 "cells": [
  {
   "cell_type": "code",
   "execution_count": 1,
   "metadata": {},
   "outputs": [],
   "source": [
    "import os\n",
    "train_path = '../../raw_train_artifact'\n",
    "test_path = '../../raw_test_artifact'"
   ]
  },
  {
   "cell_type": "code",
   "execution_count": 2,
   "metadata": {},
   "outputs": [],
   "source": [
    "import sys\n",
    "import time\n",
    "import numpy as np\n",
    "\n",
    "import pandas as pd\n",
    "pd.set_option('display.max_columns',120)\n",
    "pd.set_option('display.max_rows',2000)\n",
    "pd.set_option('precision',5)\n",
    "pd.set_option('float_format', '{:.5f}'.format)\n",
    "\n",
    "import tqdm\n",
    "import joblib\n",
    "import json\n",
    "\n",
    "from gensim.models import Word2Vec\n",
    "import tempfile"
   ]
  },
  {
   "cell_type": "code",
   "execution_count": 3,
   "metadata": {},
   "outputs": [],
   "source": [
    "import logging\n",
    "\n",
    "log_path = 'Creative Embedding.log'\n",
    "if os.path.isfile(log_path): os.remove(log_path)\n",
    "    \n",
    "logger = logging.getLogger(__name__)\n",
    "logger.setLevel(logging.INFO)\n",
    "\n",
    "formatter = logging.Formatter('%(asctime)s %(levelname)-s: %(message)s', datefmt='%H:%M:%S')\n",
    "\n",
    "fh = logging.FileHandler(log_path)\n",
    "fh.setLevel(logging.INFO)\n",
    "fh.setFormatter(formatter)\n",
    "logger.addHandler(fh)\n",
    "\n",
    "sh = logging.StreamHandler(sys.stdout)\n",
    "sh.setLevel(logging.INFO)\n",
    "sh.setFormatter(formatter)\n",
    "logger.addHandler(sh)"
   ]
  },
  {
   "cell_type": "markdown",
   "metadata": {},
   "source": [
    "## Set up Artifact Directory"
   ]
  },
  {
   "cell_type": "code",
   "execution_count": 4,
   "metadata": {},
   "outputs": [],
   "source": [
    "embedding_path = '../../embedding_artifact'\n",
    "if not os.path.isdir(embedding_path): os.mkdir(embedding_path)"
   ]
  },
  {
   "cell_type": "code",
   "execution_count": 5,
   "metadata": {},
   "outputs": [],
   "source": [
    "input_path = '../../input_artifact'\n",
    "if not os.path.isdir(input_path): os.mkdir(input_path)"
   ]
  },
  {
   "cell_type": "markdown",
   "metadata": {},
   "source": [
    "## Read File"
   ]
  },
  {
   "cell_type": "code",
   "execution_count": 8,
   "metadata": {},
   "outputs": [],
   "source": [
    "cl = pd.concat([pd.read_csv(os.path.join(train_path,'click_log.csv')), pd.read_csv(os.path.join(test_path,'click_log.csv'))])"
   ]
  },
  {
   "cell_type": "code",
   "execution_count": 9,
   "metadata": {},
   "outputs": [
    {
     "name": "stderr",
     "output_type": "stream",
     "text": [
      "100%|██████████████████████████████████████████████████████████████████| 63668283/63668283 [02:35<00:00, 409710.34it/s]\n"
     ]
    }
   ],
   "source": [
    "cl_agg_user = {}\n",
    "\n",
    "for row in tqdm.tqdm(cl.values):\n",
    "    user, creative = int(row[1]), str(row[2])\n",
    "    if row[1] in cl_agg_user:\n",
    "        cl_agg_user[user].append(creative)\n",
    "    else:\n",
    "        cl_agg_user[user] = [creative]"
   ]
  },
  {
   "cell_type": "code",
   "execution_count": 10,
   "metadata": {},
   "outputs": [],
   "source": [
    "with open(os.path.join(embedding_path, 'cl_agg_user.json'), 'w') as f:\n",
    "    json.dump(cl_agg_user, f)"
   ]
  },
  {
   "cell_type": "markdown",
   "metadata": {},
   "source": [
    "## Train Word2Vec Model"
   ]
  },
  {
   "cell_type": "code",
   "execution_count": 5,
   "metadata": {},
   "outputs": [],
   "source": [
    "with open(os.path.join(embedding_path, 'cl_agg_user.json'), 'r') as f:\n",
    "    cl_agg_user = json.load(f)"
   ]
  },
  {
   "cell_type": "code",
   "execution_count": 7,
   "metadata": {},
   "outputs": [
    {
     "name": "stdout",
     "output_type": "stream",
     "text": [
      "23:44:56 INFO: Model training is done after 2077.70s\n"
     ]
    }
   ],
   "source": [
    "start = time.time()\n",
    "model = Word2Vec(sentences = cl_agg_user.values(), size=128, window=64, sg=0, hs=0, negative=20, cbow_mean=1, min_count=1, workers=16)\n",
    "logger.info(f'Model training is done after {time.time()-start:.2f}s')"
   ]
  },
  {
   "cell_type": "code",
   "execution_count": 27,
   "metadata": {},
   "outputs": [
    {
     "name": "stdout",
     "output_type": "stream",
     "text": [
      "10:56:07 INFO: Model is saved to C:\\JupyterNotebook\\Tencent-Ads-Algo-Comp-2020\\embedding_artifact\\creative_embed_s128_w64_cbow_h74txu7m after 40.22s\n"
     ]
    }
   ],
   "source": [
    "model_path = os.path.join('\\\\'.join(os.getcwd().split('\\\\')[:-2]+['embedding_artifact']), 'creative_embed_s128_w64_cbow_')\n",
    "with tempfile.NamedTemporaryFile(prefix=model_path, delete=False) as tmp:\n",
    "    tmp_file_path = tmp.name\n",
    "    start = time.time()\n",
    "    model.save(tmp_file_path)\n",
    "    logger.info(f'Model is saved to {tmp_file_path} after {time.time()-start:.2f}s')"
   ]
  },
  {
   "cell_type": "markdown",
   "metadata": {},
   "source": [
    "## Generate Training Data"
   ]
  },
  {
   "cell_type": "code",
   "execution_count": 45,
   "metadata": {},
   "outputs": [],
   "source": [
    "train_user = pd.read_csv(os.path.join(train_path,'user.csv'))\n",
    "model = Word2Vec.load(tmp_file_path)"
   ]
  },
  {
   "cell_type": "code",
   "execution_count": 97,
   "metadata": {},
   "outputs": [
    {
     "name": "stdout",
     "output_type": "stream",
     "text": [
      "13:00:12 INFO: Target age is saved to ../../input_artifact\\tag_age.npy\n"
     ]
    }
   ],
   "source": [
    "age = train_user['age'].values-1\n",
    "age_path = os.path.join(input_path, 'tag_age.npy')\n",
    "with open(age_path, 'wb') as f:\n",
    "    np.save(f, age)\n",
    "logger.info(f'Target age is saved to {age_path}')"
   ]
  },
  {
   "cell_type": "code",
   "execution_count": 98,
   "metadata": {},
   "outputs": [
    {
     "name": "stdout",
     "output_type": "stream",
     "text": [
      "13:00:50 INFO: Target gender is saved to ../../input_artifact\\tag_gender.npy\n"
     ]
    }
   ],
   "source": [
    "gender = train_user['gender'].values-1\n",
    "gender_path = os.path.join(input_path, 'tag_gender.npy')\n",
    "with open(gender_path, 'wb') as f:\n",
    "    np.save(f, gender)\n",
    "logger.info(f'Target gender is saved to {gender_path}')"
   ]
  },
  {
   "cell_type": "code",
   "execution_count": 62,
   "metadata": {},
   "outputs": [
    {
     "name": "stderr",
     "output_type": "stream",
     "text": [
      "100%|████████████████████████████████████████████████████████████████████████| 900000/900000 [04:23<00:00, 3415.90it/s]\n"
     ]
    }
   ],
   "source": [
    "input_seq, input_avg_pool = [], []\n",
    "for user in tqdm.tqdm(train_user['user_id'].values):\n",
    "    seq = np.stack([model.wv[creative] for creative in cl_agg_user[str(user)]], axis=0)\n",
    "    input_seq.append(seq)\n",
    "    avg_pool = np.mean(seq, axis=0)\n",
    "    input_avg_pool.append(avg_pool)"
   ]
  },
  {
   "cell_type": "code",
   "execution_count": 79,
   "metadata": {},
   "outputs": [],
   "source": [
    "input_avg_pool = np.stack(input_avg_pool, axis=0)"
   ]
  },
  {
   "cell_type": "code",
   "execution_count": 92,
   "metadata": {},
   "outputs": [
    {
     "name": "stdout",
     "output_type": "stream",
     "text": [
      "12:58:12 INFO: Avg-pooled creative embedding is saved to ../../input_artifact\\input_creative_avg_pool.npy\n"
     ]
    }
   ],
   "source": [
    "avg_pool_file_path = os.path.join(input_path, 'input_creative_avg_pool.npy')\n",
    "with open(avg_pool_file_path, 'wb') as f:\n",
    "    np.save(f, input_avg_pool)\n",
    "logger.info(f'Avg-pooled creative embedding is saved to {avg_pool_file_path}')"
   ]
  },
  {
   "cell_type": "code",
   "execution_count": 100,
   "metadata": {},
   "outputs": [
    {
     "name": "stdout",
     "output_type": "stream",
     "text": [
      "13:11:59 INFO: Sequence creative embedding is saved to C:\\JupyterNotebook\\Tencent-Ads-Algo-Comp-2020\\input_artifact\\input_creative_seq_0xa5h_2v after 423.20s\n"
     ]
    }
   ],
   "source": [
    "seq_path = os.path.join('\\\\'.join(os.getcwd().split('\\\\')[:-2]+['input_artifact']), 'input_creative_seq_')\n",
    "with tempfile.NamedTemporaryFile(prefix=seq_path, delete=False) as tmp:\n",
    "    start = time.time()\n",
    "    np.savez(tmp, *input_seq)\n",
    "    logger.info(f'Sequence creative embedding is saved to {tmp.name} after {time.time()-start:.2f}s')"
   ]
  },
  {
   "cell_type": "markdown",
   "metadata": {},
   "source": [
    "## Generate Testing Data"
   ]
  },
  {
   "cell_type": "code",
   "execution_count": 11,
   "metadata": {},
   "outputs": [],
   "source": [
    "with open(os.path.join(embedding_path, 'cl_agg_user.json'), 'r') as f:\n",
    "    cl_agg_user = json.load(f)"
   ]
  },
  {
   "cell_type": "code",
   "execution_count": 14,
   "metadata": {},
   "outputs": [],
   "source": [
    "test_cl = pd.read_csv(os.path.join(test_path,'click_log.csv'))\n",
    "model = Word2Vec.load(r'C:\\JupyterNotebook\\Tencent-Ads-Algo-Comp-2020\\embedding_artifact\\creative_embed_s128_w64_cbow_h74txu7m')"
   ]
  },
  {
   "cell_type": "code",
   "execution_count": 19,
   "metadata": {},
   "outputs": [
    {
     "name": "stderr",
     "output_type": "stream",
     "text": [
      "100%|██████████████████████████████████████████████████████████████████████| 1000000/1000000 [02:17<00:00, 7261.43it/s]\n"
     ]
    }
   ],
   "source": [
    "input_avg_pool = []\n",
    "user_id = []\n",
    "for user in tqdm.tqdm(test_cl['user_id'].unique()):\n",
    "    seq = np.stack([model.wv[creative] for creative in cl_agg_user[str(user)]], axis=0)\n",
    "    avg_pool = np.mean(seq, axis=0)\n",
    "    input_avg_pool.append(avg_pool)\n",
    "    user_id.append(user)"
   ]
  },
  {
   "cell_type": "code",
   "execution_count": 20,
   "metadata": {},
   "outputs": [],
   "source": [
    "input_avg_pool = np.stack(input_avg_pool, axis=0)"
   ]
  },
  {
   "cell_type": "code",
   "execution_count": 29,
   "metadata": {},
   "outputs": [
    {
     "name": "stdout",
     "output_type": "stream",
     "text": [
      "16:11:54 INFO: Avg-pooled creative embedding for testing population is saved to ../../input_artifact\\test_input_creative_avg_pool.npy\n"
     ]
    }
   ],
   "source": [
    "avg_pool_file_path = os.path.join(input_path, 'test_input_creative_avg_pool.npy')\n",
    "with open(avg_pool_file_path, 'wb') as f:\n",
    "    np.save(f, input_avg_pool)\n",
    "logger.info(f'Avg-pooled creative embedding for testing population is saved to {avg_pool_file_path}')"
   ]
  },
  {
   "cell_type": "code",
   "execution_count": 23,
   "metadata": {},
   "outputs": [],
   "source": [
    "user_id = np.array(user_id)"
   ]
  },
  {
   "cell_type": "code",
   "execution_count": 30,
   "metadata": {},
   "outputs": [
    {
     "name": "stdout",
     "output_type": "stream",
     "text": [
      "16:11:55 INFO: Head file for testing population is saved to ../../input_artifact\\test_head_creative_avg_pool.npy\n"
     ]
    }
   ],
   "source": [
    "test_head_file_path = os.path.join(input_path, 'test_head_creative_avg_pool.npy')\n",
    "with open(test_head_file_path, 'wb') as f:\n",
    "    np.save(f, user_id)\n",
    "logger.info(f'Head file for testing population is saved to {test_head_file_path}')"
   ]
  }
 ],
 "metadata": {
  "kernelspec": {
   "display_name": "Python 3",
   "language": "python",
   "name": "python3"
  },
  "language_info": {
   "codemirror_mode": {
    "name": "ipython",
    "version": 3
   },
   "file_extension": ".py",
   "mimetype": "text/x-python",
   "name": "python",
   "nbconvert_exporter": "python",
   "pygments_lexer": "ipython3",
   "version": "3.8.3"
  }
 },
 "nbformat": 4,
 "nbformat_minor": 4
}
