{
 "cells": [
  {
   "cell_type": "code",
   "execution_count": 1,
   "metadata": {},
   "outputs": [],
   "source": [
    "import os\n",
    "train_path = '../../raw_train_artifact'\n",
    "test_path = '../../raw_test_artifact'\n",
    "embedding_path = '../../embedding_artifact'\n",
    "input_path = '../../input_artifact'"
   ]
  },
  {
   "cell_type": "code",
   "execution_count": 2,
   "metadata": {},
   "outputs": [],
   "source": [
    "import sys\n",
    "import time\n",
    "import numpy as np\n",
    "\n",
    "import pandas as pd\n",
    "pd.set_option('display.max_columns',120)\n",
    "pd.set_option('display.max_rows',2000)\n",
    "pd.set_option('precision',5)\n",
    "pd.set_option('float_format', '{:.5f}'.format)\n",
    "\n",
    "import tqdm\n",
    "import joblib\n",
    "import json\n",
    "\n",
    "from gensim.models import Word2Vec\n",
    "import tempfile\n",
    "import gc\n",
    "gc.enable()"
   ]
  },
  {
   "cell_type": "code",
   "execution_count": 3,
   "metadata": {},
   "outputs": [
    {
     "name": "stdout",
     "output_type": "stream",
     "text": [
      "10:46:47 INFO: Restart notebook\n",
      "==========================\n",
      "Mon Jun  1 10:46:47 2020\n",
      "==========================\n"
     ]
    }
   ],
   "source": [
    "import logging\n",
    "\n",
    "log_path = 'Product ID Embedding.log'\n",
    "    \n",
    "logger = logging.getLogger(__name__)\n",
    "logger.setLevel(logging.INFO)\n",
    "\n",
    "formatter = logging.Formatter('%(asctime)s %(levelname)-s: %(message)s', datefmt='%H:%M:%S')\n",
    "\n",
    "fh = logging.FileHandler(log_path)\n",
    "fh.setLevel(logging.INFO)\n",
    "fh.setFormatter(formatter)\n",
    "logger.addHandler(fh)\n",
    "\n",
    "sh = logging.StreamHandler(sys.stdout)\n",
    "sh.setLevel(logging.INFO)\n",
    "sh.setFormatter(formatter)\n",
    "logger.addHandler(sh)\n",
    "\n",
    "logger.info(f'Restart notebook\\n==========================\\n{time.ctime()}\\n==========================')"
   ]
  },
  {
   "cell_type": "markdown",
   "metadata": {},
   "source": [
    "## Read File"
   ]
  },
  {
   "cell_type": "code",
   "execution_count": 4,
   "metadata": {},
   "outputs": [],
   "source": [
    "cl = pd.concat([pd.read_csv(os.path.join(train_path,'click_log.csv')), pd.read_csv(os.path.join(test_path,'click_log.csv'))])"
   ]
  },
  {
   "cell_type": "code",
   "execution_count": 5,
   "metadata": {},
   "outputs": [],
   "source": [
    "ad = pd.concat([pd.read_csv(os.path.join(train_path,'ad.csv')), pd.read_csv(os.path.join(test_path,'ad.csv'))])\n",
    "ad.drop_duplicates(subset=['creative_id', 'product_id'], inplace=True)"
   ]
  },
  {
   "cell_type": "code",
   "execution_count": 9,
   "metadata": {},
   "outputs": [],
   "source": [
    "merge = pd.merge(cl,ad,on='creative_id')\n",
    "del cl, ad\n",
    "gc.collect()\n",
    "merge.sort_values(['user_id', 'time'], inplace=True)"
   ]
  },
  {
   "cell_type": "code",
   "execution_count": 13,
   "metadata": {},
   "outputs": [
    {
     "name": "stderr",
     "output_type": "stream",
     "text": [
      "100%|██████████████████████████████████████████████████████████████████| 63668283/63668283 [03:04<00:00, 344572.43it/s]\n"
     ]
    }
   ],
   "source": [
    "product_agg_user = {}\n",
    "product_agg_user_dedup = {}\n",
    "\n",
    "for user, product in tqdm.tqdm(merge[['user_id', 'product_id']].values):\n",
    "    user, product = str(user), str(product)\n",
    "    if user in product_agg_user:\n",
    "        product_agg_user[user].append(product)\n",
    "        if product not in product_agg_user_dedup[user]:\n",
    "            product_agg_user_dedup[user].append(product)\n",
    "    else:\n",
    "        product_agg_user[user] = [product]\n",
    "        product_agg_user_dedup[user] = [product]"
   ]
  },
  {
   "cell_type": "code",
   "execution_count": 16,
   "metadata": {},
   "outputs": [],
   "source": [
    "with open(os.path.join(embedding_path, 'product_agg_user.json'), 'w') as f:\n",
    "    json.dump(product_agg_user, f)\n",
    "with open(os.path.join(embedding_path, 'product_agg_user_dedup.json'), 'w') as f:\n",
    "    json.dump(product_agg_user_dedup, f)"
   ]
  },
  {
   "cell_type": "code",
   "execution_count": 18,
   "metadata": {},
   "outputs": [
    {
     "data": {
      "text/plain": [
       "139"
      ]
     },
     "execution_count": 18,
     "metadata": {},
     "output_type": "execute_result"
    }
   ],
   "source": [
    "del product_agg_user, product_agg_user_dedup\n",
    "gc.collect()"
   ]
  },
  {
   "cell_type": "markdown",
   "metadata": {},
   "source": [
    "## Train Word2Vec Model"
   ]
  },
  {
   "cell_type": "code",
   "execution_count": 20,
   "metadata": {},
   "outputs": [],
   "source": [
    "with open(os.path.join(embedding_path, 'product_agg_user_dedup.json'), 'r') as f:\n",
    "    product_agg_user_dedup = json.load(f)"
   ]
  },
  {
   "cell_type": "code",
   "execution_count": 21,
   "metadata": {},
   "outputs": [
    {
     "name": "stdout",
     "output_type": "stream",
     "text": [
      "11:00:36 INFO: Model training is done after 103.70s\n"
     ]
    }
   ],
   "source": [
    "start = time.time()\n",
    "model = Word2Vec(sentences = product_agg_user_dedup.values(), size=128, window=64, sg=0, hs=0, negative=20, cbow_mean=1, min_count=1, workers=16)\n",
    "logger.info(f'Model training is done after {time.time()-start:.2f}s')"
   ]
  },
  {
   "cell_type": "code",
   "execution_count": 22,
   "metadata": {},
   "outputs": [
    {
     "name": "stdout",
     "output_type": "stream",
     "text": [
      "11:00:37 INFO: Model is saved to C:\\JupyterNotebook\\Tencent-Ads-Algo-Comp-2020\\embedding_artifact\\product_id_embed_s128_w64_cbow_8yemmp45 after 0.47s\n"
     ]
    }
   ],
   "source": [
    "model_path = os.path.join('\\\\'.join(os.getcwd().split('\\\\')[:-2]+['embedding_artifact']), 'product_id_embed_s128_w64_cbow_')\n",
    "with tempfile.NamedTemporaryFile(prefix=model_path, delete=False) as tmp:\n",
    "    tmp_file_path = tmp.name\n",
    "    start = time.time()\n",
    "    model.save(tmp_file_path)\n",
    "    logger.info(f'Model is saved to {tmp_file_path} after {time.time()-start:.2f}s')"
   ]
  }
 ],
 "metadata": {
  "kernelspec": {
   "display_name": "Python 3",
   "language": "python",
   "name": "python3"
  },
  "language_info": {
   "codemirror_mode": {
    "name": "ipython",
    "version": 3
   },
   "file_extension": ".py",
   "mimetype": "text/x-python",
   "name": "python",
   "nbconvert_exporter": "python",
   "pygments_lexer": "ipython3",
   "version": "3.8.3"
  }
 },
 "nbformat": 4,
 "nbformat_minor": 4
}
