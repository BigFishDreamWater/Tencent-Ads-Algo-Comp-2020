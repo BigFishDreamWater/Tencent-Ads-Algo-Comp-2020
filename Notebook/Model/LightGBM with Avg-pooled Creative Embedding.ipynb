{
 "cells": [
  {
   "cell_type": "code",
   "execution_count": 1,
   "metadata": {},
   "outputs": [],
   "source": [
    "import os\n",
    "train_path = '../../raw_train_artifact'\n",
    "test_path = '../../raw_test_artifact'\n",
    "input_path = '../../input_artifact'\n",
    "model_path = '../../model_artifact'\n",
    "if not os.path.isdir(model_path): os.mkdir(model_path)"
   ]
  },
  {
   "cell_type": "code",
   "execution_count": 2,
   "metadata": {},
   "outputs": [],
   "source": [
    "import sys\n",
    "import gc\n",
    "import time\n",
    "import numpy as np\n",
    "\n",
    "import pandas as pd\n",
    "pd.set_option('display.max_columns',120)\n",
    "pd.set_option('display.max_rows',2000)\n",
    "pd.set_option('precision',5)\n",
    "pd.set_option('float_format', '{:.5f}'.format)\n",
    "\n",
    "import tqdm\n",
    "import joblib\n",
    "import json\n",
    "\n",
    "from lightgbm import LGBMClassifier\n",
    "from sklearn.model_selection import KFold\n",
    "from sklearn.metrics import accuracy_score, roc_auc_score"
   ]
  },
  {
   "cell_type": "code",
   "execution_count": 3,
   "metadata": {},
   "outputs": [],
   "source": [
    "import logging\n",
    "\n",
    "log_path = 'LightGBM with Avg-pooled Creative Embedding.log'\n",
    "if os.path.isfile(log_path): os.remove(log_path)\n",
    "    \n",
    "logger = logging.getLogger(__name__)\n",
    "logger.setLevel(logging.INFO)\n",
    "\n",
    "formatter = logging.Formatter('%(asctime)s %(levelname)-s: %(message)s', datefmt='%H:%M:%S')\n",
    "\n",
    "fh = logging.FileHandler(log_path)\n",
    "fh.setLevel(logging.INFO)\n",
    "fh.setFormatter(formatter)\n",
    "logger.addHandler(fh)\n",
    "\n",
    "sh = logging.StreamHandler(sys.stdout)\n",
    "sh.setLevel(logging.INFO)\n",
    "sh.setFormatter(formatter)\n",
    "logger.addHandler(sh)"
   ]
  },
  {
   "cell_type": "markdown",
   "metadata": {},
   "source": [
    "## Load Data"
   ]
  },
  {
   "cell_type": "code",
   "execution_count": 4,
   "metadata": {},
   "outputs": [],
   "source": [
    "age_path = os.path.join(input_path, 'tag_age.npy')\n",
    "with open(age_path, 'rb') as f:\n",
    "    tag_age = np.load(f)"
   ]
  },
  {
   "cell_type": "code",
   "execution_count": 5,
   "metadata": {},
   "outputs": [],
   "source": [
    "gender_path = os.path.join(input_path, 'tag_gender.npy')\n",
    "with open(gender_path, 'rb') as f:\n",
    "    tag_gender = np.load(f)"
   ]
  },
  {
   "cell_type": "code",
   "execution_count": 6,
   "metadata": {},
   "outputs": [],
   "source": [
    "avg_pool_file_path = os.path.join(input_path, 'input_creative_avg_pool.npy')\n",
    "with open(avg_pool_file_path, 'rb') as f:\n",
    "    inp = np.load(f)"
   ]
  },
  {
   "cell_type": "markdown",
   "metadata": {},
   "source": [
    "## Age Model"
   ]
  },
  {
   "cell_type": "code",
   "execution_count": null,
   "metadata": {},
   "outputs": [
    {
     "name": "stdout",
     "output_type": "stream",
     "text": [
      "23:50:15 INFO: Fold 1/5\n",
      "Training until validation scores don't improve for 150 rounds\n"
     ]
    }
   ],
   "source": [
    "N_FOLD = 5\n",
    "\n",
    "folds = KFold(n_splits=N_FOLD, shuffle=True, random_state=1898)\n",
    "oof_pred = np.zeros(inp.shape[0])\n",
    "gc.enable()\n",
    "\n",
    "for n_iter, (train_idx, test_idx) in enumerate(folds.split(inp)):\n",
    "    x_train, y_train = inp[train_idx,:], tag_age[train_idx]\n",
    "    x_test, y_test = inp[test_idx,:], tag_age[test_idx]\n",
    "    \n",
    "    logger.info(f'Fold {n_iter+1}/{N_FOLD}')\n",
    "    start = time.time()\n",
    "    \n",
    "    clf = LGBMClassifier(\n",
    "        n_estimators=5000,\n",
    "        learning_rate=0.01,\n",
    "        num_leaves=128,\n",
    "        colsample_bytree=.8,\n",
    "        subsample=.9,\n",
    "        max_depth=15,\n",
    "        reg_alpha=.1,\n",
    "        reg_lambda=.1,\n",
    "        min_split_gain=.01,\n",
    "        min_child_weight=2,\n",
    "        random_state=1898,\n",
    "        objective='multiclass'\n",
    "    )\n",
    "    \n",
    "    clf.fit(x_train, y_train, \n",
    "            eval_set= [(x_train, y_train), (x_test, y_test)], \n",
    "            eval_metric='multi_logloss', verbose=250, early_stopping_rounds=150\n",
    "    )\n",
    "    \n",
    "    logger.info(f'Model training is done after {time.time()-start:.2f}s')\n",
    "    \n",
    "    oof_pred[test_idx] = clf.predict(x_test, num_iteration=clf.best_iteration_)\n",
    "    cur_accuracy = accuracy_score(y_test, oof_pred[test_idx])\n",
    "    logger.info(f'OOF Accuracy: {cur_accuracy:.6f}')\n",
    "    \n",
    "    gbm_artifact = f'GBM_Creative_Age_{n_iter+1}.pkl'\n",
    "    joblib.dump(clf, os.path.join(model_path, gbm_artifact))\n",
    "    \n",
    "    del clf, x_train, y_train, x_test, y_test\n",
    "    gc.collect()\n",
    "    \n",
    "full_accuracy = accuracy_score(tag_age, oof_pred)\n",
    "\n",
    "logger.info(f'Total OOF Accuracy: {full_accuracy:.6f}')"
   ]
  },
  {
   "cell_type": "markdown",
   "metadata": {},
   "source": [
    "## Gender Model"
   ]
  },
  {
   "cell_type": "code",
   "execution_count": null,
   "metadata": {},
   "outputs": [],
   "source": [
    "N_FOLD = 5\n",
    "\n",
    "folds = KFold(n_splits=N_FOLD, shuffle=True, random_state=1898)\n",
    "oof_pred = np.zeros(inp.shape[0])\n",
    "oof_pred_prob = np.zeros(inp.shape[0])\n",
    "\n",
    "gc.enable()\n",
    "\n",
    "for n_iter, (train_idx, test_idx) in enumerate(folds.split(inp)):\n",
    "    x_train, y_train = inp[train_idx,:], tag_gender[train_idx]\n",
    "    x_test, y_test = inp[test_idx,:], tag_gender[test_idx]\n",
    "    \n",
    "    logger.info(f'Fold {n_iter+1}/{N_FOLD}')\n",
    "    start = time.time()\n",
    "    \n",
    "    clf = LGBMClassifier(\n",
    "        n_estimators=5000,\n",
    "        learning_rate=0.01,\n",
    "        num_leaves=128,\n",
    "        colsample_bytree=.8,\n",
    "        subsample=.9,\n",
    "        max_depth=15,\n",
    "        reg_alpha=.1,\n",
    "        reg_lambda=.1,\n",
    "        min_split_gain=.01,\n",
    "        min_child_weight=2,\n",
    "        random_state=1898\n",
    "    )\n",
    "    \n",
    "    clf.fit(x_train, y_train, \n",
    "            eval_set= [(x_train, y_train), (x_test, y_test)], \n",
    "            eval_metric='auc', verbose=250, early_stopping_rounds=150\n",
    "    )\n",
    "    \n",
    "    logger.info(f'Model training is done after {time.time()-start:.2f}s')\n",
    "    \n",
    "    oof_pred[test_idx] = clf.predict(x_test, num_iteration=clf.best_iteration_)\n",
    "    oof_pred_prob[test_idx] = clf.predict_proba(x_test, num_iteration=clf.best_iteration_)[:,1]\n",
    "    cur_accuracy = accuracy_score(y_test, oof_pred[test_idx])\n",
    "    cur_auc = roc_auc_score(y_test, oof_pred_prob[test_idx])\n",
    "    logger.info(f'OOF Accuracy: {cur_accuracy:.6f}, AUC: {cur_auc:.6f}')\n",
    "    \n",
    "    gbm_artifact = f'GBM_Creative_Gender_{n_iter+1}.pkl'\n",
    "    joblib.dump(clf, os.path.join(model_path, gbm_artifact))\n",
    "    \n",
    "    del clf, x_train, y_train, x_test, y_test\n",
    "    gc.collect()\n",
    "    \n",
    "full_accuracy = accuracy_score(tag_gender, oof_pred)\n",
    "full_auc = roc_auc_score(tag_gender, oof_pred_prob)\n",
    "\n",
    "logger.info(f'Total OOF Accuracy: {full_accuracy:.6f}, AUC: {full_auc:.6f}')"
   ]
  },
  {
   "cell_type": "code",
   "execution_count": null,
   "metadata": {},
   "outputs": [],
   "source": []
  }
 ],
 "metadata": {
  "kernelspec": {
   "display_name": "Python 3",
   "language": "python",
   "name": "python3"
  },
  "language_info": {
   "codemirror_mode": {
    "name": "ipython",
    "version": 3
   },
   "file_extension": ".py",
   "mimetype": "text/x-python",
   "name": "python",
   "nbconvert_exporter": "python",
   "pygments_lexer": "ipython3",
   "version": "3.8.3"
  }
 },
 "nbformat": 4,
 "nbformat_minor": 4
}
