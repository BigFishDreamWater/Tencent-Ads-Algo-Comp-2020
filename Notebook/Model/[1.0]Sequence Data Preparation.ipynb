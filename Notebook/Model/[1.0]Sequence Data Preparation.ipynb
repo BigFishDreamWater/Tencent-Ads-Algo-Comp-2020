{
 "cells": [
  {
   "cell_type": "code",
   "execution_count": 1,
   "metadata": {},
   "outputs": [],
   "source": [
    "import os\n",
    "train_path = '../../raw_train_artifact'\n",
    "test_path = '../../raw_test_artifact'\n",
    "embedding_path = '../../embedding_artifact'\n",
    "input_path = '../../input_artifact'\n",
    "input_split_path = '../../input_artifact/input_split'\n",
    "if not os.path.isdir(input_split_path): os.mkdir(input_split_path)\n",
    "model_path = '../../model_artifact'\n",
    "output_path = '../../output_artifact'"
   ]
  },
  {
   "cell_type": "code",
   "execution_count": 2,
   "metadata": {},
   "outputs": [],
   "source": [
    "import sys\n",
    "import gc\n",
    "gc.enable()\n",
    "import time\n",
    "import re\n",
    "\n",
    "import numpy as np\n",
    "import pandas as pd\n",
    "pd.set_option('display.max_columns',120)\n",
    "pd.set_option('display.max_rows',2000)\n",
    "pd.set_option('precision',5)\n",
    "pd.set_option('float_format', '{:.5f}'.format)\n",
    "\n",
    "import tqdm\n",
    "import joblib\n",
    "import json\n",
    "\n",
    "from sklearn.model_selection import KFold\n",
    "from sklearn.metrics import accuracy_score, roc_auc_score\n",
    "from gensim.models import Word2Vec\n",
    "import torch\n",
    "from torch import nn\n",
    "import torch.nn.functional as F"
   ]
  },
  {
   "cell_type": "code",
   "execution_count": 3,
   "metadata": {},
   "outputs": [
    {
     "name": "stdout",
     "output_type": "stream",
     "text": [
      "13:48:24 INFO: Restart notebook\n",
      "==========================\n",
      "Wed Jun  3 13:48:24 2020\n",
      "==========================\n"
     ]
    }
   ],
   "source": [
    "import logging\n",
    "\n",
    "log_path = '[1.0]Sequence Data Preparation.log'\n",
    "    \n",
    "logger = logging.getLogger(__name__)\n",
    "logger.setLevel(logging.INFO)\n",
    "\n",
    "formatter = logging.Formatter('%(asctime)s %(levelname)-s: %(message)s', datefmt='%H:%M:%S')\n",
    "\n",
    "fh = logging.FileHandler(log_path)\n",
    "fh.setLevel(logging.INFO)\n",
    "fh.setFormatter(formatter)\n",
    "logger.addHandler(fh)\n",
    "\n",
    "sh = logging.StreamHandler(sys.stdout)\n",
    "sh.setLevel(logging.INFO)\n",
    "sh.setFormatter(formatter)\n",
    "logger.addHandler(sh)\n",
    "\n",
    "logger.info(f'Restart notebook\\n==========================\\n{time.ctime()}\\n==========================')"
   ]
  },
  {
   "cell_type": "code",
   "execution_count": 4,
   "metadata": {},
   "outputs": [
    {
     "name": "stdout",
     "output_type": "stream",
     "text": [
      "13:48:24 INFO: Device in Use: cuda\n",
      "13:48:24 INFO: CUDA Memory: Total 8.00 GB, Cached 0.00 GB, Allocated 0.00 GB\n"
     ]
    }
   ],
   "source": [
    "DEVICE = torch.device(\"cuda\" if torch.cuda.is_available() else \"cpu\")\n",
    "logger.info('Device in Use: {}'.format(DEVICE))\n",
    "torch.cuda.empty_cache()\n",
    "t = torch.cuda.get_device_properties(DEVICE).total_memory/1024**3\n",
    "c = torch.cuda.memory_cached(DEVICE)/1024**3\n",
    "a = torch.cuda.memory_allocated(DEVICE)/1024**3\n",
    "logger.info('CUDA Memory: Total {:.2f} GB, Cached {:.2f} GB, Allocated {:.2f} GB'.format(t,c,a))"
   ]
  },
  {
   "cell_type": "markdown",
   "metadata": {},
   "source": [
    "## Prepare Data"
   ]
  },
  {
   "cell_type": "markdown",
   "metadata": {},
   "source": [
    "### Split Data to Fit in Memory"
   ]
  },
  {
   "cell_type": "code",
   "execution_count": 5,
   "metadata": {},
   "outputs": [
    {
     "name": "stdout",
     "output_type": "stream",
     "text": [
      "14:50:14 INFO: Shuffled index for training set is saved to ../../input_artifact/input_split\\train_idx_shuffle.npy\n"
     ]
    }
   ],
   "source": [
    "train_idx = np.arange(1, 900001)\n",
    "np.random.seed(1898)\n",
    "np.random.shuffle(train_idx)\n",
    "save_path = os.path.join(input_split_path, 'train_idx_shuffle.npy')\n",
    "with open(save_path, 'wb') as f:\n",
    "    np.save(f, train_idx)\n",
    "logger.info(f'Shuffled index for training set is saved to {save_path}')"
   ]
  },
  {
   "cell_type": "code",
   "execution_count": 5,
   "metadata": {},
   "outputs": [
    {
     "name": "stdout",
     "output_type": "stream",
     "text": [
      "13:49:44 INFO: Shuffled index for test set is saved to ../../input_artifact/input_split\\test_idx_shuffle.npy\n"
     ]
    }
   ],
   "source": [
    "test_idx = np.arange(3000001, 4000001)\n",
    "np.random.seed(1898)\n",
    "np.random.shuffle(test_idx)\n",
    "save_path = os.path.join(input_split_path, 'test_idx_shuffle.npy')\n",
    "with open(save_path, 'wb') as f:\n",
    "    np.save(f, test_idx)\n",
    "logger.info(f'Shuffled index for test set is saved to {save_path}')"
   ]
  },
  {
   "cell_type": "markdown",
   "metadata": {},
   "source": [
    "#### Split Ground Truth"
   ]
  },
  {
   "cell_type": "code",
   "execution_count": 13,
   "metadata": {},
   "outputs": [
    {
     "name": "stdout",
     "output_type": "stream",
     "text": [
      "18:24:35 INFO: train_truth_1.npy is saved to ../../input_artifact/input_split\\train_truth_1.npy\n",
      "18:24:35 INFO: train_truth_2.npy is saved to ../../input_artifact/input_split\\train_truth_2.npy\n",
      "18:24:35 INFO: train_truth_3.npy is saved to ../../input_artifact/input_split\\train_truth_3.npy\n",
      "18:24:35 INFO: train_truth_4.npy is saved to ../../input_artifact/input_split\\train_truth_4.npy\n",
      "18:24:35 INFO: train_truth_5.npy is saved to ../../input_artifact/input_split\\train_truth_5.npy\n",
      "18:24:35 INFO: train_truth_6.npy is saved to ../../input_artifact/input_split\\train_truth_6.npy\n",
      "18:24:35 INFO: train_truth_7.npy is saved to ../../input_artifact/input_split\\train_truth_7.npy\n",
      "18:24:35 INFO: train_truth_8.npy is saved to ../../input_artifact/input_split\\train_truth_8.npy\n",
      "18:24:35 INFO: train_truth_9.npy is saved to ../../input_artifact/input_split\\train_truth_9.npy\n",
      "18:24:36 INFO: train_truth_10.npy is saved to ../../input_artifact/input_split\\train_truth_10.npy\n"
     ]
    },
    {
     "data": {
      "text/plain": [
       "0"
      ]
     },
     "execution_count": 13,
     "metadata": {},
     "output_type": "execute_result"
    }
   ],
   "source": [
    "head = pd.read_csv(os.path.join(train_path,'user.csv'))\n",
    "head['gender'] = head['gender'] - 1\n",
    "head['age'] = head['age'] - 1\n",
    "\n",
    "truth_idx = train_idx - 1\n",
    "\n",
    "for split_idx in range(1,11):\n",
    "    sub = head.iloc[truth_idx[(split_idx-1)*90000:split_idx*90000], :].values\n",
    "    sub_name = f'train_truth_{split_idx}.npy'\n",
    "    sub_path = os.path.join(input_split_path, sub_name)\n",
    "    with open(sub_path, 'wb') as f:\n",
    "        np.save(f, sub)\n",
    "    logger.info(f'{sub_name} is saved to {sub_path}')\n",
    "    del sub\n",
    "    gc.collect()\n",
    "del head\n",
    "gc.collect()"
   ]
  },
  {
   "cell_type": "markdown",
   "metadata": {},
   "source": [
    "#### Split Sequence Data"
   ]
  },
  {
   "cell_type": "code",
   "execution_count": 7,
   "metadata": {},
   "outputs": [
    {
     "name": "stdout",
     "output_type": "stream",
     "text": [
      "14:51:04 INFO: train_product_agg_user_1.json is saved to ../../input_artifact/input_split\\train_product_agg_user_1.json\n",
      "14:51:08 INFO: train_product_agg_user_2.json is saved to ../../input_artifact/input_split\\train_product_agg_user_2.json\n",
      "14:51:12 INFO: train_product_agg_user_3.json is saved to ../../input_artifact/input_split\\train_product_agg_user_3.json\n",
      "14:51:16 INFO: train_product_agg_user_4.json is saved to ../../input_artifact/input_split\\train_product_agg_user_4.json\n",
      "14:51:20 INFO: train_product_agg_user_5.json is saved to ../../input_artifact/input_split\\train_product_agg_user_5.json\n",
      "14:51:24 INFO: train_product_agg_user_6.json is saved to ../../input_artifact/input_split\\train_product_agg_user_6.json\n",
      "14:51:28 INFO: train_product_agg_user_7.json is saved to ../../input_artifact/input_split\\train_product_agg_user_7.json\n",
      "14:51:32 INFO: train_product_agg_user_8.json is saved to ../../input_artifact/input_split\\train_product_agg_user_8.json\n",
      "14:51:36 INFO: train_product_agg_user_9.json is saved to ../../input_artifact/input_split\\train_product_agg_user_9.json\n",
      "14:51:40 INFO: train_product_agg_user_10.json is saved to ../../input_artifact/input_split\\train_product_agg_user_10.json\n",
      "14:52:04 INFO: train_advertiser_agg_user_1.json is saved to ../../input_artifact/input_split\\train_advertiser_agg_user_1.json\n",
      "14:52:08 INFO: train_advertiser_agg_user_2.json is saved to ../../input_artifact/input_split\\train_advertiser_agg_user_2.json\n",
      "14:52:12 INFO: train_advertiser_agg_user_3.json is saved to ../../input_artifact/input_split\\train_advertiser_agg_user_3.json\n",
      "14:52:16 INFO: train_advertiser_agg_user_4.json is saved to ../../input_artifact/input_split\\train_advertiser_agg_user_4.json\n",
      "14:52:20 INFO: train_advertiser_agg_user_5.json is saved to ../../input_artifact/input_split\\train_advertiser_agg_user_5.json\n",
      "14:52:24 INFO: train_advertiser_agg_user_6.json is saved to ../../input_artifact/input_split\\train_advertiser_agg_user_6.json\n",
      "14:52:28 INFO: train_advertiser_agg_user_7.json is saved to ../../input_artifact/input_split\\train_advertiser_agg_user_7.json\n",
      "14:52:32 INFO: train_advertiser_agg_user_8.json is saved to ../../input_artifact/input_split\\train_advertiser_agg_user_8.json\n",
      "14:52:36 INFO: train_advertiser_agg_user_9.json is saved to ../../input_artifact/input_split\\train_advertiser_agg_user_9.json\n",
      "14:52:40 INFO: train_advertiser_agg_user_10.json is saved to ../../input_artifact/input_split\\train_advertiser_agg_user_10.json\n",
      "14:53:05 INFO: train_ad_agg_user_1.json is saved to ../../input_artifact/input_split\\train_ad_agg_user_1.json\n",
      "14:53:09 INFO: train_ad_agg_user_2.json is saved to ../../input_artifact/input_split\\train_ad_agg_user_2.json\n",
      "14:53:14 INFO: train_ad_agg_user_3.json is saved to ../../input_artifact/input_split\\train_ad_agg_user_3.json\n",
      "14:53:18 INFO: train_ad_agg_user_4.json is saved to ../../input_artifact/input_split\\train_ad_agg_user_4.json\n",
      "14:53:22 INFO: train_ad_agg_user_5.json is saved to ../../input_artifact/input_split\\train_ad_agg_user_5.json\n",
      "14:53:26 INFO: train_ad_agg_user_6.json is saved to ../../input_artifact/input_split\\train_ad_agg_user_6.json\n",
      "14:53:30 INFO: train_ad_agg_user_7.json is saved to ../../input_artifact/input_split\\train_ad_agg_user_7.json\n",
      "14:53:34 INFO: train_ad_agg_user_8.json is saved to ../../input_artifact/input_split\\train_ad_agg_user_8.json\n",
      "14:53:38 INFO: train_ad_agg_user_9.json is saved to ../../input_artifact/input_split\\train_ad_agg_user_9.json\n",
      "14:53:42 INFO: train_ad_agg_user_10.json is saved to ../../input_artifact/input_split\\train_ad_agg_user_10.json\n",
      "14:54:07 INFO: train_creative_agg_user_1.json is saved to ../../input_artifact/input_split\\train_creative_agg_user_1.json\n",
      "14:54:11 INFO: train_creative_agg_user_2.json is saved to ../../input_artifact/input_split\\train_creative_agg_user_2.json\n",
      "14:54:15 INFO: train_creative_agg_user_3.json is saved to ../../input_artifact/input_split\\train_creative_agg_user_3.json\n",
      "14:54:19 INFO: train_creative_agg_user_4.json is saved to ../../input_artifact/input_split\\train_creative_agg_user_4.json\n",
      "14:54:23 INFO: train_creative_agg_user_5.json is saved to ../../input_artifact/input_split\\train_creative_agg_user_5.json\n",
      "14:54:27 INFO: train_creative_agg_user_6.json is saved to ../../input_artifact/input_split\\train_creative_agg_user_6.json\n",
      "14:54:31 INFO: train_creative_agg_user_7.json is saved to ../../input_artifact/input_split\\train_creative_agg_user_7.json\n",
      "14:54:36 INFO: train_creative_agg_user_8.json is saved to ../../input_artifact/input_split\\train_creative_agg_user_8.json\n",
      "14:54:40 INFO: train_creative_agg_user_9.json is saved to ../../input_artifact/input_split\\train_creative_agg_user_9.json\n",
      "14:54:44 INFO: train_creative_agg_user_10.json is saved to ../../input_artifact/input_split\\train_creative_agg_user_10.json\n"
     ]
    }
   ],
   "source": [
    "for full_name in ['product_agg_user.json','advertiser_agg_user.json', 'ad_agg_user.json', 'creative_agg_user.json']:\n",
    "    with open(os.path.join(embedding_path, full_name), 'r') as f:\n",
    "        full = json.load(f)\n",
    "    for split_idx in range(1,11):\n",
    "        sub = {}\n",
    "        for key in train_idx[(split_idx-1)*90000:split_idx*90000]:\n",
    "            sub[str(key)] = full[str(key)]\n",
    "        sub_name = 'train_' + full_name.split('.')[0] + f'_{split_idx}.json'\n",
    "        sub_path = os.path.join(input_split_path, sub_name)\n",
    "        with open(sub_path, 'w') as f:\n",
    "            json.dump(sub, f)\n",
    "        logger.info(f'{sub_name} is saved to {sub_path}')\n",
    "        del sub\n",
    "        gc.collect()\n",
    "    del full\n",
    "    gc.collect()"
   ]
  },
  {
   "cell_type": "code",
   "execution_count": 9,
   "metadata": {},
   "outputs": [
    {
     "name": "stdout",
     "output_type": "stream",
     "text": [
      "14:50:59 INFO: test_product_agg_user_1.json is saved to ../../input_artifact/input_split\\test_product_agg_user_1.json\n",
      "14:51:04 INFO: test_product_agg_user_2.json is saved to ../../input_artifact/input_split\\test_product_agg_user_2.json\n",
      "14:51:08 INFO: test_product_agg_user_3.json is saved to ../../input_artifact/input_split\\test_product_agg_user_3.json\n",
      "14:51:12 INFO: test_product_agg_user_4.json is saved to ../../input_artifact/input_split\\test_product_agg_user_4.json\n",
      "14:51:16 INFO: test_product_agg_user_5.json is saved to ../../input_artifact/input_split\\test_product_agg_user_5.json\n",
      "14:51:20 INFO: test_product_agg_user_6.json is saved to ../../input_artifact/input_split\\test_product_agg_user_6.json\n",
      "14:51:24 INFO: test_product_agg_user_7.json is saved to ../../input_artifact/input_split\\test_product_agg_user_7.json\n",
      "14:51:29 INFO: test_product_agg_user_8.json is saved to ../../input_artifact/input_split\\test_product_agg_user_8.json\n",
      "14:51:33 INFO: test_product_agg_user_9.json is saved to ../../input_artifact/input_split\\test_product_agg_user_9.json\n",
      "14:51:37 INFO: test_product_agg_user_10.json is saved to ../../input_artifact/input_split\\test_product_agg_user_10.json\n",
      "14:52:03 INFO: test_advertiser_agg_user_1.json is saved to ../../input_artifact/input_split\\test_advertiser_agg_user_1.json\n",
      "14:52:07 INFO: test_advertiser_agg_user_2.json is saved to ../../input_artifact/input_split\\test_advertiser_agg_user_2.json\n",
      "14:52:11 INFO: test_advertiser_agg_user_3.json is saved to ../../input_artifact/input_split\\test_advertiser_agg_user_3.json\n",
      "14:52:16 INFO: test_advertiser_agg_user_4.json is saved to ../../input_artifact/input_split\\test_advertiser_agg_user_4.json\n",
      "14:52:20 INFO: test_advertiser_agg_user_5.json is saved to ../../input_artifact/input_split\\test_advertiser_agg_user_5.json\n",
      "14:52:24 INFO: test_advertiser_agg_user_6.json is saved to ../../input_artifact/input_split\\test_advertiser_agg_user_6.json\n",
      "14:52:28 INFO: test_advertiser_agg_user_7.json is saved to ../../input_artifact/input_split\\test_advertiser_agg_user_7.json\n",
      "14:52:33 INFO: test_advertiser_agg_user_8.json is saved to ../../input_artifact/input_split\\test_advertiser_agg_user_8.json\n",
      "14:52:37 INFO: test_advertiser_agg_user_9.json is saved to ../../input_artifact/input_split\\test_advertiser_agg_user_9.json\n",
      "14:52:41 INFO: test_advertiser_agg_user_10.json is saved to ../../input_artifact/input_split\\test_advertiser_agg_user_10.json\n",
      "14:53:08 INFO: test_ad_agg_user_1.json is saved to ../../input_artifact/input_split\\test_ad_agg_user_1.json\n",
      "14:53:12 INFO: test_ad_agg_user_2.json is saved to ../../input_artifact/input_split\\test_ad_agg_user_2.json\n",
      "14:53:17 INFO: test_ad_agg_user_3.json is saved to ../../input_artifact/input_split\\test_ad_agg_user_3.json\n",
      "14:53:21 INFO: test_ad_agg_user_4.json is saved to ../../input_artifact/input_split\\test_ad_agg_user_4.json\n",
      "14:53:25 INFO: test_ad_agg_user_5.json is saved to ../../input_artifact/input_split\\test_ad_agg_user_5.json\n",
      "14:53:29 INFO: test_ad_agg_user_6.json is saved to ../../input_artifact/input_split\\test_ad_agg_user_6.json\n",
      "14:53:34 INFO: test_ad_agg_user_7.json is saved to ../../input_artifact/input_split\\test_ad_agg_user_7.json\n",
      "14:53:38 INFO: test_ad_agg_user_8.json is saved to ../../input_artifact/input_split\\test_ad_agg_user_8.json\n",
      "14:53:42 INFO: test_ad_agg_user_9.json is saved to ../../input_artifact/input_split\\test_ad_agg_user_9.json\n",
      "14:53:47 INFO: test_ad_agg_user_10.json is saved to ../../input_artifact/input_split\\test_ad_agg_user_10.json\n",
      "14:54:13 INFO: test_creative_agg_user_1.json is saved to ../../input_artifact/input_split\\test_creative_agg_user_1.json\n",
      "14:54:18 INFO: test_creative_agg_user_2.json is saved to ../../input_artifact/input_split\\test_creative_agg_user_2.json\n",
      "14:54:22 INFO: test_creative_agg_user_3.json is saved to ../../input_artifact/input_split\\test_creative_agg_user_3.json\n",
      "14:54:26 INFO: test_creative_agg_user_4.json is saved to ../../input_artifact/input_split\\test_creative_agg_user_4.json\n",
      "14:54:31 INFO: test_creative_agg_user_5.json is saved to ../../input_artifact/input_split\\test_creative_agg_user_5.json\n",
      "14:54:35 INFO: test_creative_agg_user_6.json is saved to ../../input_artifact/input_split\\test_creative_agg_user_6.json\n",
      "14:54:39 INFO: test_creative_agg_user_7.json is saved to ../../input_artifact/input_split\\test_creative_agg_user_7.json\n",
      "14:54:44 INFO: test_creative_agg_user_8.json is saved to ../../input_artifact/input_split\\test_creative_agg_user_8.json\n",
      "14:54:48 INFO: test_creative_agg_user_9.json is saved to ../../input_artifact/input_split\\test_creative_agg_user_9.json\n",
      "14:54:52 INFO: test_creative_agg_user_10.json is saved to ../../input_artifact/input_split\\test_creative_agg_user_10.json\n"
     ]
    }
   ],
   "source": [
    "for full_name in ['product_agg_user.json','advertiser_agg_user.json', 'ad_agg_user.json', 'creative_agg_user.json']:\n",
    "    with open(os.path.join(embedding_path, full_name), 'r') as f:\n",
    "        full = json.load(f)\n",
    "    for split_idx in range(1,11):\n",
    "        sub = {}\n",
    "        for key in test_idx[(split_idx-1)*100000:split_idx*100000]:\n",
    "            sub[str(key)] = full[str(key)]\n",
    "        sub_name = 'test_' + full_name.split('.')[0] + f'_{split_idx}.json'\n",
    "        sub_path = os.path.join(input_split_path, sub_name)\n",
    "        with open(sub_path, 'w') as f:\n",
    "            json.dump(sub, f)\n",
    "        logger.info(f'{sub_name} is saved to {sub_path}')\n",
    "        del sub\n",
    "        _ = gc.collect()\n",
    "    del full\n",
    "    _ = gc.collect()"
   ]
  },
  {
   "cell_type": "markdown",
   "metadata": {},
   "source": [
    "### DataLoader Utility"
   ]
  },
  {
   "cell_type": "code",
   "execution_count": 5,
   "metadata": {},
   "outputs": [],
   "source": [
    "creative_embedding_path = r'C:\\JupyterNotebook\\Tencent-Ads-Algo-Comp-2020\\embedding_artifact\\creative_id_embed_s160_w64_cbow_38168zon'\n",
    "ad_embedding_path = r'C:\\JupyterNotebook\\Tencent-Ads-Algo-Comp-2020\\embedding_artifact\\ad_id_embed_s160_w64_cbow_ibfi8g78'\n",
    "advertiser_embedding_path = r'C:\\JupyterNotebook\\Tencent-Ads-Algo-Comp-2020\\embedding_artifact\\advertiser_id_embed_s128_w64_cbow_n4re8tds'\n",
    "product_embedding_path = r'C:\\JupyterNotebook\\Tencent-Ads-Algo-Comp-2020\\embedding_artifact\\product_id_embed_s128_w64_cbow_8yemmp45'\n",
    "\n",
    "def prepare_data(split_id, max_seq=100, slient=False):\n",
    "    global input_split_path, creative_embedding_path, ad_embedding_path, advertiser_embedding_path, product_embedding_path\n",
    "\n",
    "    start = time.time()\n",
    "    if not slient: logger.info(f'Processing Split-{split_id}')\n",
    "    truth_path = os.path.join(input_split_path, f'train_truth_{split_id}.npy')\n",
    "    with open(truth_path, 'rb') as f:\n",
    "        truth = np.load(f)\n",
    "    inp_user, out_age, out_gender = truth[:,0], truth[:,1], truth[:,2]\n",
    "    if not slient: logger.info(f'Target output ready after {time.time()-start:.2f}s')\n",
    "    del truth\n",
    "    _ = gc.collect()\n",
    "    \n",
    "    creative_embedding = Word2Vec.load(creative_embedding_path) \n",
    "    if not slient: logger.info(f'Creative ID embedding artifact is loaded after {time.time()-start:.2f}s')\n",
    "    creative_path = os.path.join(input_split_path, f'train_creative_agg_user_{split_id}.json')\n",
    "    with open(creative_path, 'r') as f:\n",
    "        creative = json.load(f)\n",
    "    inp_creative = []\n",
    "    for user in inp_user:\n",
    "        inp_creative.append(np.stack([creative_embedding.wv[key] for key in creative[str(user)][:max_seq]], axis=0))  \n",
    "    if not slient: logger.info(f'Creative input ready after {time.time()-start:.2f}s')\n",
    "    del creative_embedding, creative\n",
    "    _ = gc.collect()\n",
    "    \n",
    "    ad_embedding = Word2Vec.load(ad_embedding_path) \n",
    "    if not slient: logger.info(f'Ad ID embedding artifact is loaded after {time.time()-start:.2f}s')\n",
    "    ad_path = os.path.join(input_split_path, f'train_ad_agg_user_{split_id}.json')\n",
    "    with open(ad_path, 'r') as f:\n",
    "        ad = json.load(f)\n",
    "    inp_ad = []\n",
    "    for user in inp_user:\n",
    "        inp_ad.append(np.stack([ad_embedding.wv[key] for key in ad[str(user)][:max_seq]], axis=0))\n",
    "    if not slient: logger.info(f'Ad input ready after {time.time()-start:.2f}s')\n",
    "    del ad_embedding, ad\n",
    "    _ = gc.collect()\n",
    "\n",
    "    advertiser_embedding = Word2Vec.load(advertiser_embedding_path) \n",
    "    if not slient: logger.info(f'Advertiser ID embedding artifact is loaded after {time.time()-start:.2f}s')\n",
    "    advertiser_path = os.path.join(input_split_path, f'train_advertiser_agg_user_{split_id}.json')\n",
    "    with open(advertiser_path, 'r') as f:\n",
    "        advertiser = json.load(f)\n",
    "    inp_advertiser = []\n",
    "    for user in inp_user:\n",
    "        inp_advertiser.append(np.stack([advertiser_embedding.wv[key] for key in advertiser[str(user)][:max_seq]], axis=0))   \n",
    "    if not slient: logger.info(f'Advertiser input ready after {time.time()-start:.2f}s')\n",
    "    del advertiser_embedding, advertiser\n",
    "    _ = gc.collect()\n",
    "    \n",
    "    product_embedding = Word2Vec.load(product_embedding_path) \n",
    "    if not slient: logger.info(f'Product ID embedding artifact is loaded after {time.time()-start:.2f}s')\n",
    "    product_path = os.path.join(input_split_path, f'train_product_agg_user_{split_id}.json')\n",
    "    with open(product_path, 'r') as f:\n",
    "        product = json.load(f)\n",
    "    inp_product = []\n",
    "    for user in inp_user:\n",
    "        inp_product.append(np.stack([product_embedding.wv[key] for key in product[str(user)][:max_seq]], axis=0))\n",
    "    if not slient: logger.info(f'Product input ready after {time.time()-start:.2f}s')\n",
    "    del product_embedding, product, inp_user\n",
    "    _ = gc.collect()\n",
    "        \n",
    "    return inp_creative, inp_ad, inp_advertiser, inp_product, out_age, out_gender"
   ]
  },
  {
   "cell_type": "code",
   "execution_count": 6,
   "metadata": {},
   "outputs": [
    {
     "name": "stdout",
     "output_type": "stream",
     "text": [
      "19:41:38 INFO: Processing Split-1\n",
      "19:41:38 INFO: Target output ready after 0.02s\n",
      "19:41:57 INFO: Creative ID embedding artifact is loaded after 18.58s\n",
      "19:42:08 INFO: Creative input ready after 29.67s\n",
      "19:42:25 INFO: Ad ID embedding artifact is loaded after 47.25s\n",
      "19:42:37 INFO: Ad input ready after 59.09s\n",
      "19:42:39 INFO: Advertiser ID embedding artifact is loaded after 61.10s\n",
      "19:42:49 INFO: Advertiser input ready after 70.80s\n",
      "19:42:50 INFO: Product ID embedding artifact is loaded after 71.55s\n",
      "19:42:59 INFO: Product input ready after 80.77s\n",
      "19:43:21 INFO: Processing Split-2\n",
      "19:43:21 INFO: Target output ready after 0.01s\n",
      "19:43:40 INFO: Creative ID embedding artifact is loaded after 18.29s\n",
      "19:43:51 INFO: Creative input ready after 29.77s\n",
      "19:44:09 INFO: Ad ID embedding artifact is loaded after 47.31s\n",
      "19:44:20 INFO: Ad input ready after 58.94s\n",
      "19:44:22 INFO: Advertiser ID embedding artifact is loaded after 60.93s\n",
      "19:44:32 INFO: Advertiser input ready after 70.43s\n",
      "19:44:33 INFO: Product ID embedding artifact is loaded after 71.14s\n",
      "19:44:42 INFO: Product input ready after 80.25s\n",
      "19:44:57 INFO: Processing Split-3\n",
      "19:44:57 INFO: Target output ready after 0.03s\n",
      "19:45:15 INFO: Creative ID embedding artifact is loaded after 18.27s\n",
      "19:45:27 INFO: Creative input ready after 29.66s\n",
      "19:45:44 INFO: Ad ID embedding artifact is loaded after 47.28s\n",
      "19:45:56 INFO: Ad input ready after 59.47s\n",
      "19:45:58 INFO: Advertiser ID embedding artifact is loaded after 61.50s\n",
      "19:46:08 INFO: Advertiser input ready after 71.36s\n",
      "19:46:09 INFO: Product ID embedding artifact is loaded after 72.01s\n",
      "19:46:18 INFO: Product input ready after 81.51s\n",
      "19:46:32 INFO: Processing Split-4\n",
      "19:46:32 INFO: Target output ready after 0.01s\n",
      "19:46:51 INFO: Creative ID embedding artifact is loaded after 19.22s\n",
      "19:47:03 INFO: Creative input ready after 30.91s\n",
      "19:47:21 INFO: Ad ID embedding artifact is loaded after 48.53s\n",
      "19:47:32 INFO: Ad input ready after 60.13s\n",
      "19:47:34 INFO: Advertiser ID embedding artifact is loaded after 62.14s\n",
      "19:47:44 INFO: Advertiser input ready after 71.68s\n",
      "19:47:44 INFO: Product ID embedding artifact is loaded after 72.37s\n",
      "19:47:54 INFO: Product input ready after 81.65s\n",
      "19:48:05 INFO: Processing Split-5\n",
      "19:48:05 INFO: Target output ready after 0.03s\n",
      "19:48:24 INFO: Creative ID embedding artifact is loaded after 18.33s\n",
      "19:48:35 INFO: Creative input ready after 29.80s\n",
      "19:48:53 INFO: Ad ID embedding artifact is loaded after 47.56s\n",
      "19:49:05 INFO: Ad input ready after 59.29s\n",
      "19:49:07 INFO: Advertiser ID embedding artifact is loaded after 61.40s\n",
      "19:49:16 INFO: Advertiser input ready after 71.06s\n",
      "19:49:17 INFO: Product ID embedding artifact is loaded after 71.71s\n",
      "19:49:26 INFO: Product input ready after 80.89s\n",
      "19:49:39 INFO: Processing Split-6\n",
      "19:49:39 INFO: Target output ready after 0.03s\n",
      "19:49:57 INFO: Creative ID embedding artifact is loaded after 18.53s\n",
      "19:50:09 INFO: Creative input ready after 29.96s\n",
      "19:50:26 INFO: Ad ID embedding artifact is loaded after 47.79s\n",
      "19:50:38 INFO: Ad input ready after 59.31s\n",
      "19:50:40 INFO: Advertiser ID embedding artifact is loaded after 61.40s\n",
      "19:50:50 INFO: Advertiser input ready after 70.97s\n",
      "19:50:50 INFO: Product ID embedding artifact is loaded after 71.67s\n",
      "19:51:00 INFO: Product input ready after 80.87s\n",
      "19:51:11 INFO: Processing Split-7\n",
      "19:51:11 INFO: Target output ready after 0.03s\n",
      "19:51:30 INFO: Creative ID embedding artifact is loaded after 18.43s\n",
      "19:51:41 INFO: Creative input ready after 29.95s\n",
      "19:51:59 INFO: Ad ID embedding artifact is loaded after 47.96s\n",
      "19:52:11 INFO: Ad input ready after 59.58s\n",
      "19:52:13 INFO: Advertiser ID embedding artifact is loaded after 61.69s\n",
      "19:52:23 INFO: Advertiser input ready after 71.34s\n",
      "19:52:23 INFO: Product ID embedding artifact is loaded after 72.02s\n",
      "19:52:33 INFO: Product input ready after 81.48s\n",
      "19:52:41 INFO: Processing Split-8\n",
      "19:52:41 INFO: Target output ready after 0.01s\n",
      "19:52:59 INFO: Creative ID embedding artifact is loaded after 18.37s\n",
      "19:53:11 INFO: Creative input ready after 29.92s\n",
      "19:53:29 INFO: Ad ID embedding artifact is loaded after 47.78s\n",
      "19:53:40 INFO: Ad input ready after 59.37s\n",
      "19:53:42 INFO: Advertiser ID embedding artifact is loaded after 61.50s\n",
      "19:53:52 INFO: Advertiser input ready after 71.04s\n",
      "19:53:53 INFO: Product ID embedding artifact is loaded after 71.72s\n",
      "19:54:02 INFO: Product input ready after 81.00s\n",
      "19:54:09 INFO: Processing Split-9\n",
      "19:54:09 INFO: Target output ready after 0.01s\n",
      "19:54:28 INFO: Creative ID embedding artifact is loaded after 18.73s\n",
      "19:54:40 INFO: Creative input ready after 30.21s\n",
      "19:54:57 INFO: Ad ID embedding artifact is loaded after 48.14s\n",
      "19:55:09 INFO: Ad input ready after 60.00s\n",
      "19:55:12 INFO: Advertiser ID embedding artifact is loaded after 62.17s\n",
      "19:55:21 INFO: Advertiser input ready after 71.77s\n",
      "19:55:22 INFO: Product ID embedding artifact is loaded after 72.42s\n",
      "19:55:31 INFO: Product input ready after 81.72s\n",
      "19:55:43 INFO: Processing Split-10\n",
      "19:55:43 INFO: Target output ready after 0.02s\n",
      "19:56:02 INFO: Creative ID embedding artifact is loaded after 18.58s\n",
      "19:56:13 INFO: Creative input ready after 30.11s\n",
      "19:56:31 INFO: Ad ID embedding artifact is loaded after 48.08s\n",
      "19:56:43 INFO: Ad input ready after 59.86s\n",
      "19:56:45 INFO: Advertiser ID embedding artifact is loaded after 61.96s\n",
      "19:56:55 INFO: Advertiser input ready after 71.60s\n",
      "19:56:56 INFO: Product ID embedding artifact is loaded after 72.32s\n",
      "19:57:05 INFO: Product input ready after 81.67s\n"
     ]
    }
   ],
   "source": [
    "for sid in range(1,11):\n",
    "    inp_creative, inp_ad, inp_advertiser, inp_product, out_age, out_gender = prepare_data(sid)\n",
    "    del inp_creative, inp_ad, inp_advertiser, inp_product, out_age, out_gender\n",
    "    _ = gc.collect()"
   ]
  },
  {
   "cell_type": "code",
   "execution_count": null,
   "metadata": {},
   "outputs": [],
   "source": []
  }
 ],
 "metadata": {
  "kernelspec": {
   "display_name": "Python 3",
   "language": "python",
   "name": "python3"
  },
  "language_info": {
   "codemirror_mode": {
    "name": "ipython",
    "version": 3
   },
   "file_extension": ".py",
   "mimetype": "text/x-python",
   "name": "python",
   "nbconvert_exporter": "python",
   "pygments_lexer": "ipython3",
   "version": "3.8.3"
  }
 },
 "nbformat": 4,
 "nbformat_minor": 4
}
